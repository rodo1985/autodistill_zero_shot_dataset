{
 "cells": [
  {
   "cell_type": "markdown",
   "metadata": {},
   "source": [
    "Download images directly from google using tag and number of images to download"
   ]
  },
  {
   "cell_type": "code",
   "execution_count": null,
   "metadata": {},
   "outputs": [],
   "source": [
    "import os\n",
    "import cv2\n",
    "from tqdm import tqdm\n",
    "from simple_image_download import simple_image_download as simp\n"
   ]
  },
  {
   "cell_type": "markdown",
   "metadata": {},
   "source": [
    "Define the keywords we want to use for looking up images on Google"
   ]
  },
  {
   "cell_type": "code",
   "execution_count": null,
   "metadata": {},
   "outputs": [],
   "source": [
    "# list with keywords\n",
    "keywords = ['safety glasses operators', 'people', 'hard hat']\n",
    "\n",
    "# number of images to download\n",
    "n_images = 5000"
   ]
  },
  {
   "cell_type": "markdown",
   "metadata": {},
   "source": [
    "Download images directly from google using keywords and number of images to download"
   ]
  },
  {
   "cell_type": "code",
   "execution_count": null,
   "metadata": {},
   "outputs": [],
   "source": [
    "# download images\n",
    "for keyword in keywords:\n",
    "    response = simp.simple_image_download\n",
    "    response().download(keyword, n_images)\n"
   ]
  },
  {
   "cell_type": "markdown",
   "metadata": {},
   "source": [
    "We are going to clean the data and remove the images that are not valid because opencv can't read them."
   ]
  },
  {
   "cell_type": "code",
   "execution_count": null,
   "metadata": {},
   "outputs": [],
   "source": [
    "\n",
    "for keyword in keywords:\n",
    "\n",
    "    # get all files in folder\n",
    "    input_folder = os.path.join('simple_images', keyword)\n",
    "    files = os.listdir(input_folder)\n",
    "    \n",
    "    print('Number of files before cleaning = ' + str(len(files)))\n",
    "\n",
    "    # loop through files using tqdm\n",
    "    for file in tqdm(files):\n",
    "        # get image\n",
    "        img = cv2.imread(os.path.join(input_folder, file))\n",
    "\n",
    "        if img is None:\n",
    "            \n",
    "            # remove file\n",
    "            os.remove(os.path.join(input_folder, file))\n",
    "\n",
    "    print('Number of files after cleaning = ' + str(len(os.listdir(input_folder))))\n"
   ]
  }
 ],
 "metadata": {
  "kernelspec": {
   "display_name": ".venv",
   "language": "python",
   "name": "python3"
  },
  "language_info": {
   "codemirror_mode": {
    "name": "ipython",
    "version": 3
   },
   "file_extension": ".py",
   "mimetype": "text/x-python",
   "name": "python",
   "nbconvert_exporter": "python",
   "pygments_lexer": "ipython3",
   "version": "3.10.12"
  },
  "orig_nbformat": 4
 },
 "nbformat": 4,
 "nbformat_minor": 2
}
