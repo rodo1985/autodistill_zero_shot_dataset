{
 "cells": [
  {
   "cell_type": "markdown",
   "metadata": {},
   "source": [
    "# ***Download images from Google***"
   ]
  },
  {
   "cell_type": "markdown",
   "metadata": {},
   "source": [
    "Download images directly from google using tag and number of images to download"
   ]
  },
  {
   "cell_type": "code",
   "execution_count": 14,
   "metadata": {},
   "outputs": [],
   "source": [
    "import os\n",
    "import cv2\n",
    "from tqdm import tqdm\n",
    "from simple_image_download import simple_image_download as simp\n"
   ]
  },
  {
   "cell_type": "markdown",
   "metadata": {},
   "source": [
    "Define the keywords we want to use for looking up images on Google"
   ]
  },
  {
   "cell_type": "code",
   "execution_count": 15,
   "metadata": {},
   "outputs": [],
   "source": [
    "# list with keywords\n",
    "keywords = ['safety glasses', 'people', 'hard hat']\n",
    "\n",
    "# number of images to download\n",
    "n_images = 10"
   ]
  },
  {
   "cell_type": "markdown",
   "metadata": {},
   "source": [
    "Delete folder if exists"
   ]
  },
  {
   "cell_type": "code",
   "execution_count": 16,
   "metadata": {},
   "outputs": [
    {
     "name": "stderr",
     "output_type": "stream",
     "text": [
      "rm: cannot remove 'images': No such file or directory\n"
     ]
    }
   ],
   "source": [
    "# if folder exist, delete it\n",
    "if os.path.exists('simple_images'):\n",
    "    os.system('rm -r images')"
   ]
  },
  {
   "cell_type": "markdown",
   "metadata": {},
   "source": [
    "Download images directly from google using keywords and number of images to download"
   ]
  },
  {
   "cell_type": "code",
   "execution_count": 17,
   "metadata": {},
   "outputs": [],
   "source": [
    "# download images\n",
    "for keyword in keywords:\n",
    "    response = simp.simple_image_download\n",
    "    response().download(keyword, n_images)\n"
   ]
  },
  {
   "cell_type": "markdown",
   "metadata": {},
   "source": [
    "We are going to clean the data and remove the images that are not valid because opencv can't read them."
   ]
  },
  {
   "cell_type": "code",
   "execution_count": 18,
   "metadata": {},
   "outputs": [
    {
     "name": "stdout",
     "output_type": "stream",
     "text": [
      "Number of files before cleaning = 10\n"
     ]
    },
    {
     "name": "stderr",
     "output_type": "stream",
     "text": [
      "100%|██████████| 10/10 [00:00<00:00, 107.69it/s]\n"
     ]
    },
    {
     "name": "stdout",
     "output_type": "stream",
     "text": [
      "Number of files after cleaning = 10\n",
      "Number of files before cleaning = 10\n"
     ]
    },
    {
     "name": "stderr",
     "output_type": "stream",
     "text": [
      "100%|██████████| 10/10 [00:00<00:00, 134.36it/s]\n"
     ]
    },
    {
     "name": "stdout",
     "output_type": "stream",
     "text": [
      "Number of files after cleaning = 7\n",
      "Number of files before cleaning = 10\n"
     ]
    },
    {
     "name": "stderr",
     "output_type": "stream",
     "text": [
      "100%|██████████| 10/10 [00:00<00:00, 441.43it/s]"
     ]
    },
    {
     "name": "stdout",
     "output_type": "stream",
     "text": [
      "Number of files after cleaning = 7\n"
     ]
    },
    {
     "name": "stderr",
     "output_type": "stream",
     "text": [
      "\n"
     ]
    }
   ],
   "source": [
    "\n",
    "for keyword in keywords:\n",
    "\n",
    "    # get all files in folder\n",
    "    input_folder = os.path.join('simple_images', keyword)\n",
    "    files = os.listdir(input_folder)\n",
    "    \n",
    "    print('Number of files before cleaning = ' + str(len(files)))\n",
    "\n",
    "    # loop through files using tqdm\n",
    "    for file in tqdm(files):\n",
    "        # get image\n",
    "        img = cv2.imread(os.path.join(input_folder, file))\n",
    "\n",
    "        if img is None:\n",
    "            \n",
    "            # remove file\n",
    "            os.remove(os.path.join(input_folder, file))\n",
    "\n",
    "    print('Number of files after cleaning = ' + str(len(os.listdir(input_folder))))\n"
   ]
  }
 ],
 "metadata": {
  "kernelspec": {
   "display_name": ".venv",
   "language": "python",
   "name": "python3"
  },
  "language_info": {
   "codemirror_mode": {
    "name": "ipython",
    "version": 3
   },
   "file_extension": ".py",
   "mimetype": "text/x-python",
   "name": "python",
   "nbconvert_exporter": "python",
   "pygments_lexer": "ipython3",
   "version": "3.10.12"
  },
  "orig_nbformat": 4
 },
 "nbformat": 4,
 "nbformat_minor": 2
}
