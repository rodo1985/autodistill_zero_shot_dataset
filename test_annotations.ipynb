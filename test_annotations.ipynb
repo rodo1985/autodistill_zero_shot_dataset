{
 "cells": [
  {
   "cell_type": "code",
   "execution_count": null,
   "metadata": {},
   "outputs": [],
   "source": [
    "import cv2\n",
    "import matplotlib.pyplot as plt\n",
    "\n",
    "# Load image and annotation file\n",
    "image = cv2.imread('output_folder/train/images/people_5.jpg')\n",
    "with open('output_folder/train/labels/people_1.txt', 'r') as f:\n",
    "    annotations = f.readlines()\n",
    "\n",
    "# Loop through annotations and draw bounding boxes\n",
    "for annotation in annotations:\n",
    "    class_id, x_center, y_center, width, height = map(float,annotation.split()[:5])\n",
    "    x_min = int((x_center - width / 2) * image.shape[1])\n",
    "    y_min = int((y_center - height / 2) * image.shape[0])\n",
    "    x_max = int((x_center + width / 2) * image.shape[1])\n",
    "    y_max = int((y_center + height / 2) * image.shape[0])\n",
    "    cv2.rectangle(image, (x_min, y_min), (x_max, y_max), (0, 255, 0), 2)\n",
    "\n",
    "# Show image with bounding boxes using Matplotlib\n",
    "plt.imshow(cv2.cvtColor(image, cv2.COLOR_BGR2RGB))\n",
    "plt.show()"
   ]
  }
 ],
 "metadata": {
  "kernelspec": {
   "display_name": ".venv",
   "language": "python",
   "name": "python3"
  },
  "language_info": {
   "codemirror_mode": {
    "name": "ipython",
    "version": 3
   },
   "file_extension": ".py",
   "mimetype": "text/x-python",
   "name": "python",
   "nbconvert_exporter": "python",
   "pygments_lexer": "ipython3",
   "version": "3.10.11"
  },
  "orig_nbformat": 4
 },
 "nbformat": 4,
 "nbformat_minor": 2
}
